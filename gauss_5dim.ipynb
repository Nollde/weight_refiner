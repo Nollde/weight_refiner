{
 "cells": [
  {
   "cell_type": "code",
   "execution_count": null,
   "metadata": {},
   "outputs": [],
   "source": [
    "import numpy as np\n",
    "import tensorflow as tf\n",
    "\n",
    "from data import create_data_gaussian, prepare_data_natural\n",
    "from model import (\n",
    "    simple_model,\n",
    "    get_train,\n",
    "    get_val,\n",
    "    prepare_data_reweighter,\n",
    "    prepare_data_refiner,\n",
    "    apply_reweighter,\n",
    "    apply_refiner,\n",
    "    resample,\n",
    ")\n",
    "from plotting import plot_raw, plot_n_ratio, plot_w, plot_w2, plot_training"
   ]
  },
  {
   "cell_type": "code",
   "execution_count": null,
   "metadata": {},
   "outputs": [],
   "source": [
    "output_dir = \"results/gauss_5dim/\"\n",
    "bins = np.arange(-3, 3.1, 0.1)"
   ]
  },
  {
   "cell_type": "code",
   "execution_count": null,
   "metadata": {},
   "outputs": [],
   "source": [
    "# # Calculate Normalization\n",
    "# A = lambda k, sigma: 1 / np.sqrt((2*np.pi)**k*sigma**(k*2))\n",
    "# neg_frac = A(3, 0.5) / A(3, 1) + 1"
   ]
  },
  {
   "cell_type": "code",
   "execution_count": null,
   "metadata": {},
   "outputs": [],
   "source": [
    "data = pos, neg, pos_weights, neg_weights = create_data_gaussian(10_000_000, neg_frac=1/9, neg_scale=0.5, shape=(3,))  # 10_000_000, neg_frac=0.07, neg_scale=0.5, shape=(5,)\n",
    "plot_raw(data=data, bins=bins, path=output_dir + \"raw.pdf\")"
   ]
  },
  {
   "cell_type": "code",
   "execution_count": null,
   "metadata": {},
   "outputs": [],
   "source": [
    "reweighter = simple_model(input_shape=(3,))\n",
    "reweighter.compile(optimizer=\"rmsprop\", loss=tf.keras.losses.BinaryCrossentropy(from_logits=False), metrics=[\"accuracy\"])\n",
    "x_train, y_train, w_train, = get_train(*prepare_data_reweighter(*data))\n",
    "history_reweighter = reweighter.fit(x_train, y_train, sample_weight=w_train, epochs=1, validation_split=0.2, batch_size=256)\n",
    "plot_training(history_reweighter, title=\"Reweighter\", path=output_dir + \"training_reweighter.pdf\")"
   ]
  },
  {
   "cell_type": "code",
   "execution_count": null,
   "metadata": {},
   "outputs": [],
   "source": [
    "refiner = simple_model(input_shape=(3,))\n",
    "refiner.compile(optimizer=\"rmsprop\", loss=tf.keras.losses.BinaryCrossentropy(from_logits=False), metrics=[\"accuracy\"])\n",
    "x_train, y_train, w_train = get_train(*prepare_data_refiner(*data))\n",
    "history_refiner = refiner.fit(x_train, y_train, sample_weight=w_train, epochs=1, validation_split=0.2, batch_size=256)\n",
    "plot_training(history_refiner, title=\"Refiner\", path=output_dir + \"training_refiner.pdf\")"
   ]
  },
  {
   "cell_type": "code",
   "execution_count": null,
   "metadata": {},
   "outputs": [],
   "source": [
    "data_natural = get_val(*prepare_data_natural(*data))\n",
    "data_reweighter = get_val(*apply_reweighter(*data, reweighter=reweighter))\n",
    "data_refiner = get_val(*apply_refiner(*data, refiner=refiner))"
   ]
  },
  {
   "cell_type": "code",
   "execution_count": null,
   "metadata": {},
   "outputs": [],
   "source": [
    "plot_n_ratio(data=data_natural, reweighter=data_reweighter, refiner=data_refiner, bins=bins, path=output_dir + \"counts.pdf\")"
   ]
  },
  {
   "cell_type": "code",
   "execution_count": null,
   "metadata": {},
   "outputs": [],
   "source": [
    "plot_w(data=data_natural, reweighter=data_reweighter, refiner=data_refiner, bins=np.arange(-1, 1.2, 0.1), path=output_dir + \"weights.pdf\")"
   ]
  },
  {
   "cell_type": "code",
   "execution_count": null,
   "metadata": {},
   "outputs": [],
   "source": [
    "\n",
    "def check_refiner(vals, refiner):\n",
    "    # Analytic check of refiner ratio\n",
    "    # vals = (bins[1:] + bins[:-1]) / 2\n",
    "    ratio = 1 / refiner.predict(vals) - 1\n",
    "\n",
    "    plt.plot(vals, ratio, label=\"DNN Ratio\")\n",
    "    plt.plot(vals, np.abs(neg)/pos, label=\"Analytic Ratio\")\n",
    "    plt.legend()\n"
   ]
  },
  {
   "cell_type": "code",
   "execution_count": null,
   "metadata": {},
   "outputs": [],
   "source": [
    "plot_w2(data=data_natural, reweighter=data_reweighter, refiner=data_refiner, bins=bins, path=output_dir + \"variances.pdf\")"
   ]
  },
  {
   "cell_type": "code",
   "execution_count": null,
   "metadata": {},
   "outputs": [],
   "source": [
    "data_reweighter_resampled = resample(*data_reweighter)\n",
    "data_refiner_resampled = resample(*data_refiner)\n",
    "len(data_reweighter_resampled[0]), len(data_refiner_resampled[0])"
   ]
  },
  {
   "cell_type": "code",
   "execution_count": null,
   "metadata": {},
   "outputs": [],
   "source": [
    "plot_n_ratio(data=data_natural, reweighter=data_reweighter_resampled, refiner=data_refiner_resampled, bins=bins, path=output_dir + \"counts_resampled.pdf\")"
   ]
  },
  {
   "cell_type": "code",
   "execution_count": null,
   "metadata": {},
   "outputs": [],
   "source": [
    "plot_w(data=data_natural, reweighter=data_reweighter_resampled, refiner=data_refiner_resampled, bins=np.arange(-1, 3.0, 0.2), path=output_dir + \"weights_resampled.pdf\")"
   ]
  },
  {
   "cell_type": "code",
   "execution_count": null,
   "metadata": {},
   "outputs": [],
   "source": [
    "plot_w2(data=data_natural, reweighter=data_reweighter_resampled, refiner=data_refiner_resampled, bins=bins, path=output_dir + \"variances_resampled.pdf\")"
   ]
  },
  {
   "cell_type": "code",
   "execution_count": null,
   "metadata": {},
   "outputs": [],
   "source": []
  }
 ],
 "metadata": {
  "kernelspec": {
   "display_name": "base",
   "language": "python",
   "name": "python3"
  },
  "language_info": {
   "codemirror_mode": {
    "name": "ipython",
    "version": 3
   },
   "file_extension": ".py",
   "mimetype": "text/x-python",
   "name": "python",
   "nbconvert_exporter": "python",
   "pygments_lexer": "ipython3",
   "version": "3.11.10"
  }
 },
 "nbformat": 4,
 "nbformat_minor": 2
}
