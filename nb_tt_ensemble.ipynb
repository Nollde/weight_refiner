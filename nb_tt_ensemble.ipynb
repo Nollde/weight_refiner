{
 "cells": [
  {
   "cell_type": "code",
   "execution_count": null,
   "metadata": {},
   "outputs": [],
   "source": [
    "import numpy as np\n",
    "import tensorflow as tf\n",
    "\n",
    "from refiner.data import load_data_tt, prepare_data_natural\n",
    "from refiner.model import (\n",
    "    SimpleModel,\n",
    "    get_train,\n",
    "    get_val,\n",
    "    prepare_data_reweighter,\n",
    "    prepare_data_refiner,\n",
    "    apply_reweighter,\n",
    "    apply_refiner,\n",
    "    resample,\n",
    ")\n",
    "from refiner.plotting import plot_raw, plot_n_ratio, plot_n_ratio_multi, plot_w, plot_w2, plot_w_2d_scatter"
   ]
  },
  {
   "cell_type": "code",
   "execution_count": null,
   "metadata": {},
   "outputs": [],
   "source": [
    "output_dir = \"results/tt_ensemble/\"\n",
    "bins = np.linspace(0, 3, 30)\n",
    "transform = lambda x: x[:, 0]\n",
    "n_jets, n_features = 15, 5"
   ]
  },
  {
   "cell_type": "code",
   "execution_count": null,
   "metadata": {},
   "outputs": [],
   "source": [
    "data = pos, neg, pos_weights, neg_weights = load_data_tt(n_jets=n_jets)\n",
    "plot_raw(data=data, bins=bins, transform=transform, path=output_dir + \"raw.pdf\")"
   ]
  },
  {
   "cell_type": "code",
   "execution_count": null,
   "metadata": {},
   "outputs": [],
   "source": [
    "epochs, batch_size = 10, 1024"
   ]
  },
  {
   "cell_type": "code",
   "execution_count": null,
   "metadata": {},
   "outputs": [],
   "source": [
    "x_train, y_train, w_train = get_train(*prepare_data_reweighter(*data))\n",
    "validation_data = get_val(*prepare_data_reweighter(*data))\n",
    "\n",
    "reweighters = []\n",
    "for i in range(10):\n",
    "    reweighter = SimpleModel(input_shape=(n_jets*n_features,))\n",
    "    reweighter.compile(\n",
    "        n_train=x_train.shape[0],\n",
    "        epochs=epochs,\n",
    "        batch_size=batch_size,\n",
    "        learning_rate=(0.001, 0.0000001),\n",
    "    )\n",
    "    logger = reweighter.fit(\n",
    "        x_train,\n",
    "        y_train,\n",
    "        sample_weight=w_train,\n",
    "        validation_data=validation_data,\n",
    "        epochs=epochs,\n",
    "        batch_size=batch_size,\n",
    "    )\n",
    "    reweighters.append(reweighter)"
   ]
  },
  {
   "cell_type": "code",
   "execution_count": null,
   "metadata": {},
   "outputs": [],
   "source": [
    "x_train, y_train, w_train = get_train(*prepare_data_refiner(*data))\n",
    "validation_data = get_val(*prepare_data_refiner(*data))\n",
    "\n",
    "refiners = []\n",
    "for i in range(10):\n",
    "    refiner = SimpleModel(input_shape=(n_jets*n_features,))\n",
    "    refiner.compile(\n",
    "        n_train=x_train.shape[0],\n",
    "        epochs=epochs,\n",
    "        batch_size=batch_size,\n",
    "        learning_rate=(0.001, 0.00001),\n",
    "    )\n",
    "    logger = refiner.fit(\n",
    "        x_train,\n",
    "        y_train,\n",
    "        sample_weight=w_train,\n",
    "        validation_data=validation_data,\n",
    "        epochs=epochs,\n",
    "        batch_size=batch_size,\n",
    "    )\n",
    "    refiners.append(refiner)\n"
   ]
  },
  {
   "cell_type": "code",
   "execution_count": null,
   "metadata": {},
   "outputs": [],
   "source": [
    "data_natural = get_val(*prepare_data_natural(*data))\n",
    "data_reweighters = [get_val(*apply_reweighter(*data, reweighter=reweighter)) for reweighter in reweighters]\n",
    "data_refiners = [get_val(*apply_refiner(*data, refiner=refiner)) for refiner in refiners]"
   ]
  },
  {
   "cell_type": "code",
   "execution_count": null,
   "metadata": {},
   "outputs": [],
   "source": [
    "for i in range(10):\n",
    "    plot_n_ratio_multi(\n",
    "        data=data_natural,\n",
    "        reweighter=data_reweighters,\n",
    "        refiner=data_refiners,\n",
    "        transform=lambda x: x[:, i],\n",
    "        ratio_unc=\"hilo\",\n",
    "        path=output_dir + f\"counts_{i}.pdf\",\n",
    "    )"
   ]
  },
  {
   "cell_type": "code",
   "execution_count": null,
   "metadata": {},
   "outputs": [],
   "source": [
    "plot_w(data=data_natural, reweighter=data_reweighter, refiner=data_refiner, bins=np.arange(-1.2, 3.0, 0.2), path=output_dir + \"weights.pdf\")"
   ]
  },
  {
   "cell_type": "code",
   "execution_count": null,
   "metadata": {},
   "outputs": [],
   "source": [
    "plot_w2(data=data_natural, reweighter=data_reweighter, refiner=data_refiner, bins=bins, transform=transform, path=output_dir + \"variances.pdf\")"
   ]
  },
  {
   "cell_type": "code",
   "execution_count": null,
   "metadata": {},
   "outputs": [],
   "source": [
    "data_reweighter_resampled = resample(*data_reweighter)\n",
    "data_refiner_resampled = resample(*data_refiner)\n",
    "len(data_reweighter_resampled[0]), len(data_refiner_resampled[0])"
   ]
  },
  {
   "cell_type": "code",
   "execution_count": null,
   "metadata": {},
   "outputs": [],
   "source": [
    "plot_n_ratio(data=data_natural, reweighter=data_reweighter_resampled, refiner=data_refiner_resampled, bins=bins, transform=transform, path=output_dir + \"counts_resampled.pdf\")"
   ]
  },
  {
   "cell_type": "code",
   "execution_count": null,
   "metadata": {},
   "outputs": [],
   "source": [
    "plot_w(data=data_natural, reweighter=data_reweighter_resampled, refiner=data_refiner_resampled, bins=np.arange(-1.2, 3.0, 0.2), path=output_dir + \"weights_resampled.pdf\")"
   ]
  },
  {
   "cell_type": "code",
   "execution_count": null,
   "metadata": {},
   "outputs": [],
   "source": [
    "plot_w2(data=data_natural, reweighter=data_reweighter_resampled, refiner=data_refiner_resampled, bins=bins, transform=transform, path=output_dir + \"variances_resampled.pdf\")"
   ]
  },
  {
   "cell_type": "code",
   "execution_count": null,
   "metadata": {},
   "outputs": [],
   "source": [
    "plot_w_2d_scatter(data_reweighters[0], data_refiners[0], transform=transform, path=output_dir + \"weights_2d.pdf\")"
   ]
  },
  {
   "cell_type": "code",
   "execution_count": null,
   "metadata": {},
   "outputs": [],
   "source": [
    "np.max(hist.T)"
   ]
  },
  {
   "cell_type": "code",
   "execution_count": null,
   "metadata": {},
   "outputs": [],
   "source": [
    "arr = np.array([-1])\n"
   ]
  },
  {
   "cell_type": "code",
   "execution_count": null,
   "metadata": {},
   "outputs": [],
   "source": []
  }
 ],
 "metadata": {
  "kernelspec": {
   "display_name": "base",
   "language": "python",
   "name": "python3"
  },
  "language_info": {
   "codemirror_mode": {
    "name": "ipython",
    "version": 3
   },
   "file_extension": ".py",
   "mimetype": "text/x-python",
   "name": "python",
   "nbconvert_exporter": "python",
   "pygments_lexer": "ipython3",
   "version": "3.11.10"
  }
 },
 "nbformat": 4,
 "nbformat_minor": 2
}
