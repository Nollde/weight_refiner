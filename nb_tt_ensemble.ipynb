{
 "cells": [
  {
   "cell_type": "code",
   "execution_count": null,
   "metadata": {},
   "outputs": [],
   "source": [
    "import numpy as np\n",
    "import tensorflow as tf\n",
    "from tqdm.notebook import tqdm\n",
    "\n",
    "from refiner.data import load_data_tt, prepare_data_natural\n",
    "from refiner.model import (\n",
    "    SimpleModel,\n",
    "    get_train,\n",
    "    get_val,\n",
    "    prepare_data_reweighter,\n",
    "    prepare_data_refiner,\n",
    "    apply_reweighter,\n",
    "    apply_refiner,\n",
    ")\n",
    "from refiner.plotting import plot_raw, plot_n_ratio_multi, plot_w, plot_w2, plot_w_2d_scatter"
   ]
  },
  {
   "cell_type": "code",
   "execution_count": null,
   "metadata": {},
   "outputs": [],
   "source": [
    "output_dir = \"results/tt_ensemble/\"\n",
    "bins = np.linspace(0, 1, 20)\n",
    "transform = lambda x: 100 * x[:, 0]\n",
    "xlabel = \"Lepton $p_T$ [GeV]\"\n",
    "# transform = lambda x: 100 * x[:, 30]\n",
    "# xlabel = \"Leading ISR jet $p_T$ [GeV]\"\n",
    "n_jets, n_features = 15, 5\n",
    "retrain = False\n",
    "data_kwargs = dict(test_size=0.2, random_state=42)"
   ]
  },
  {
   "cell_type": "code",
   "execution_count": null,
   "metadata": {},
   "outputs": [],
   "source": [
    "data = pos, neg, pos_weights, neg_weights = load_data_tt(n_jets=n_jets)"
   ]
  },
  {
   "cell_type": "code",
   "execution_count": null,
   "metadata": {},
   "outputs": [],
   "source": [
    "plot_raw(data=data, bins=np.linspace(0, 300, 20), transform=transform, path=output_dir + f\"raw_0.pdf\", xlabel=xlabel)"
   ]
  },
  {
   "cell_type": "code",
   "execution_count": null,
   "metadata": {},
   "outputs": [],
   "source": [
    "epochs, batch_size = 10, 1024"
   ]
  },
  {
   "cell_type": "code",
   "execution_count": null,
   "metadata": {},
   "outputs": [],
   "source": [
    "reweighters = [SimpleModel(input_shape=(n_jets*n_features,)) for i in range(10)]\n",
    "if retrain:\n",
    "    x_train, y_train, w_train = get_train(*prepare_data_reweighter(*data), **data_kwargs)\n",
    "    validation_data = get_val(*prepare_data_reweighter(*data), **data_kwargs)\n",
    "\n",
    "    for reweighter in tqdm(reweighters):\n",
    "        reweighter.compile(\n",
    "            n_train=x_train.shape[0],\n",
    "            epochs=epochs,\n",
    "            batch_size=batch_size,\n",
    "            learning_rate=(0.001, 0.000001),\n",
    "        )\n",
    "        logger = reweighter.fit(\n",
    "            x_train,\n",
    "            y_train,\n",
    "            sample_weight=w_train,\n",
    "            validation_data=validation_data,\n",
    "            epochs=epochs,\n",
    "            batch_size=batch_size,\n",
    "            verbose=0,\n",
    "        )\n",
    "    for i, reweighter in enumerate(reweighters):\n",
    "        reweighter.model.save(output_dir + f\"reweighter_{i}.keras\")\n",
    "else:\n",
    "    for i, reweighter in enumerate(reweighters):\n",
    "        reweighter.model = tf.keras.models.load_model(output_dir + f\"reweighter_{i}.keras\")\n"
   ]
  },
  {
   "cell_type": "code",
   "execution_count": null,
   "metadata": {},
   "outputs": [],
   "source": [
    "refiners = [SimpleModel(input_shape=(n_jets*n_features,)) for i in range(10)]\n",
    "if retrain:\n",
    "    x_train, y_train, w_train = get_train(*prepare_data_refiner(*data), **data_kwargs)\n",
    "    validation_data = get_val(*prepare_data_refiner(*data), **data_kwargs)\n",
    "\n",
    "    for refiner in tqdm(refiners):\n",
    "        refiner.compile(\n",
    "            n_train=x_train.shape[0],\n",
    "            epochs=epochs,\n",
    "            batch_size=batch_size,\n",
    "            learning_rate=(0.001, 0.000001),\n",
    "        )\n",
    "        logger = refiner.fit(\n",
    "            x_train,\n",
    "            y_train,\n",
    "            sample_weight=w_train,\n",
    "            validation_data=validation_data,\n",
    "            epochs=epochs,\n",
    "            batch_size=batch_size,\n",
    "            verbose=0,\n",
    "        )\n",
    "    for i, refiner in enumerate(refiners):\n",
    "        refiner.model.save(output_dir + f\"refiner_{i}.keras\")\n",
    "else:\n",
    "    for i, refiner in enumerate(refiners):\n",
    "        refiner.model = tf.keras.models.load_model(output_dir + f\"refiner_{i}.keras\")\n"
   ]
  },
  {
   "cell_type": "code",
   "execution_count": null,
   "metadata": {},
   "outputs": [],
   "source": [
    "data_natural = get_val(*prepare_data_natural(*data), **data_kwargs)\n",
    "data_reweighters = [get_val(*apply_reweighter(*data, reweighter=reweighter), **data_kwargs) for reweighter in reweighters]\n",
    "data_refiners = [get_val(*apply_refiner(*data, refiner=refiner), **data_kwargs) for refiner in refiners]"
   ]
  },
  {
   "cell_type": "code",
   "execution_count": null,
   "metadata": {},
   "outputs": [],
   "source": [
    "# for i in range(n_jets * n_features):\n",
    "#     plot_n_ratio_multi(\n",
    "#         data=data_natural,\n",
    "#         reweighter=data_reweighters,\n",
    "#         refiner=data_refiners,\n",
    "#         transform=lambda x: x[:, i],\n",
    "#         bins=60,\n",
    "#         ratio_unc=\"std\",\n",
    "#         path=output_dir + f\"counts_{i}.pdf\",\n",
    "#     )"
   ]
  },
  {
   "cell_type": "code",
   "execution_count": null,
   "metadata": {},
   "outputs": [],
   "source": [
    "plot_n_ratio_multi(\n",
    "    data=data_natural,\n",
    "    reweighter=data_reweighters,\n",
    "    refiner=data_refiners,\n",
    "    transform=transform,\n",
    "    bins=np.linspace(0, 300, 20),\n",
    "    ratio_unc=\"std\",\n",
    "    path=output_dir + f\"counts_0.pdf\",\n",
    "    xlabel=xlabel,\n",
    ")"
   ]
  },
  {
   "cell_type": "code",
   "execution_count": null,
   "metadata": {},
   "outputs": [],
   "source": [
    "plot_w(data=data_natural, reweighter=data_reweighters[0], refiner=data_refiners[0], bins=np.linspace(-1.3, 1.3, 23), path=output_dir + \"weights.pdf\")"
   ]
  }
 ],
 "metadata": {
  "kernelspec": {
   "display_name": "base",
   "language": "python",
   "name": "python3"
  },
  "language_info": {
   "codemirror_mode": {
    "name": "ipython",
    "version": 3
   },
   "file_extension": ".py",
   "mimetype": "text/x-python",
   "name": "python",
   "nbconvert_exporter": "python",
   "pygments_lexer": "ipython3",
   "version": "3.11.10"
  }
 },
 "nbformat": 4,
 "nbformat_minor": 2
}
