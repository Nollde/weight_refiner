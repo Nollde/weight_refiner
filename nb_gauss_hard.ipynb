{
 "cells": [
  {
   "cell_type": "code",
   "execution_count": null,
   "metadata": {},
   "outputs": [],
   "source": [
    "import numpy as np\n",
    "import tensorflow as tf\n",
    "\n",
    "from refiner.data import create_data_gaussian, prepare_data_natural\n",
    "from refiner.model import (\n",
    "    SimpleModel,\n",
    "    get_train,\n",
    "    get_val,\n",
    "    prepare_data_reweighter,\n",
    "    prepare_data_refiner,\n",
    "    apply_reweighter,\n",
    "    apply_refiner,\n",
    "    resample,\n",
    ")\n",
    "from refiner.plotting import plot_raw, plot_n_ratio, plot_w, plot_w2, plot_training"
   ]
  },
  {
   "cell_type": "code",
   "execution_count": null,
   "metadata": {},
   "outputs": [],
   "source": [
    "output_dir = \"results/gauss_hard/\"\n",
    "bins = np.linspace(-3, 3, 100)"
   ]
  },
  {
   "cell_type": "code",
   "execution_count": null,
   "metadata": {},
   "outputs": [],
   "source": [
    "data = pos, neg, pos_weights, neg_weights = create_data_gaussian(10_000_000, neg_frac=0.09, neg_scale=0.1)\n",
    "plot_raw(data=data, bins=bins, path=output_dir + \"raw.pdf\")"
   ]
  },
  {
   "cell_type": "code",
   "execution_count": null,
   "metadata": {},
   "outputs": [],
   "source": [
    "epochs, batch_size = 10, 1024"
   ]
  },
  {
   "cell_type": "code",
   "execution_count": null,
   "metadata": {},
   "outputs": [],
   "source": [
    "x_train, y_train, w_train = get_train(*prepare_data_reweighter(*data))\n",
    "validation_data = get_val(*prepare_data_reweighter(*data))\n",
    "reweighter = SimpleModel()\n",
    "reweighter.compile(\n",
    "    n_train=x_train.shape[0],\n",
    "    epochs=epochs,\n",
    "    batch_size=batch_size,\n",
    "    learning_rate=(0.001, 0.00001),\n",
    ")\n",
    "logger = reweighter.fit(\n",
    "    x_train,\n",
    "    y_train,\n",
    "    sample_weight=w_train,\n",
    "    validation_data=validation_data,\n",
    "    epochs=epochs,\n",
    "    batch_size=batch_size,\n",
    ")\n",
    "\n",
    "plot_training(logger.history, title=\"Reweighter\", path=output_dir + \"training_reweighter.pdf\")"
   ]
  },
  {
   "cell_type": "code",
   "execution_count": null,
   "metadata": {},
   "outputs": [],
   "source": [
    "x_train, y_train, w_train = get_train(*prepare_data_refiner(*data))\n",
    "validation_data= get_val(*prepare_data_refiner(*data))\n",
    "refiner = SimpleModel()\n",
    "refiner.compile(\n",
    "    n_train=x_train.shape[0],\n",
    "    epochs=epochs,\n",
    "    batch_size=batch_size,\n",
    "    learning_rate=(0.001, 0.00001),\n",
    ")\n",
    "logger = refiner.fit(\n",
    "    x_train,\n",
    "    y_train,\n",
    "    sample_weight=w_train,\n",
    "    validation_data=validation_data,\n",
    "    epochs=epochs,\n",
    "    batch_size=batch_size,\n",
    ")\n",
    "\n",
    "plot_training(logger.history, title=\"Refiner\", path=output_dir + \"training_refiner.pdf\")"
   ]
  },
  {
   "cell_type": "code",
   "execution_count": null,
   "metadata": {},
   "outputs": [],
   "source": [
    "data_natural = get_val(*prepare_data_natural(*data))\n",
    "data_reweighter = get_val(*apply_reweighter(*data, reweighter=reweighter))\n",
    "data_refiner = get_val(*apply_refiner(*data, refiner=refiner))"
   ]
  },
  {
   "cell_type": "code",
   "execution_count": null,
   "metadata": {},
   "outputs": [],
   "source": [
    "plot_n_ratio(data=data_natural, reweighter=data_reweighter, refiner=data_refiner, bins=bins, path=output_dir + \"counts.pdf\")"
   ]
  },
  {
   "cell_type": "code",
   "execution_count": null,
   "metadata": {},
   "outputs": [],
   "source": [
    "plot_w(data=data_natural, reweighter=data_reweighter, refiner=data_refiner, bins=np.arange(-1, 1.2, 0.1), path=output_dir + \"weights.pdf\")"
   ]
  },
  {
   "cell_type": "code",
   "execution_count": null,
   "metadata": {},
   "outputs": [],
   "source": [
    "plot_w2(data=data_natural, reweighter=data_reweighter, refiner=data_refiner, bins=bins, path=output_dir + \"variances.pdf\")"
   ]
  },
  {
   "cell_type": "code",
   "execution_count": null,
   "metadata": {},
   "outputs": [],
   "source": [
    "data_reweighter_resampled = resample(*data_reweighter)\n",
    "data_refiner_resampled = resample(*data_refiner)\n",
    "len(data_reweighter_resampled[0]), len(data_refiner_resampled[0])"
   ]
  },
  {
   "cell_type": "code",
   "execution_count": null,
   "metadata": {},
   "outputs": [],
   "source": [
    "plot_n_ratio(data=data_natural, reweighter=data_reweighter_resampled, refiner=data_refiner_resampled, bins=bins, path=output_dir + \"counts_resampled.pdf\")"
   ]
  },
  {
   "cell_type": "code",
   "execution_count": null,
   "metadata": {},
   "outputs": [],
   "source": [
    "plot_w(data=data_natural, reweighter=data_reweighter_resampled, refiner=data_refiner_resampled, bins=np.arange(-1, 3.0, 0.2), path=output_dir + \"weights_resampled.pdf\")"
   ]
  },
  {
   "cell_type": "code",
   "execution_count": null,
   "metadata": {},
   "outputs": [],
   "source": [
    "plot_w2(data=data_natural, reweighter=data_reweighter_resampled, refiner=data_refiner_resampled, bins=bins, path=output_dir + \"variances_resampled.pdf\")"
   ]
  },
  {
   "cell_type": "code",
   "execution_count": null,
   "metadata": {},
   "outputs": [],
   "source": []
  }
 ],
 "metadata": {
  "kernelspec": {
   "display_name": "base",
   "language": "python",
   "name": "python3"
  },
  "language_info": {
   "codemirror_mode": {
    "name": "ipython",
    "version": 3
   },
   "file_extension": ".py",
   "mimetype": "text/x-python",
   "name": "python",
   "nbconvert_exporter": "python",
   "pygments_lexer": "ipython3",
   "version": "3.11.10"
  }
 },
 "nbformat": 4,
 "nbformat_minor": 2
}
